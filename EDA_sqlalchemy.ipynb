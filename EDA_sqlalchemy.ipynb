{
 "cells": [
  {
   "cell_type": "markdown",
   "metadata": {},
   "source": [
    "**Table of contents**<a id='toc0_'></a>    \n",
    "- 1. [EXPLORATORY **SQL** DATA ANALYSIS OF SQLITE AIRLINE FLIGHTS INFORMATION](#toc1_)    \n",
    "  - 1.1. [DATABASE SCHEMA](#toc1_1_)    \n",
    "  - 1.2. [What are the fare conditions, the number of bookings and their price?](#toc1_2_)    \n",
    "  - 1.3. [What are the priciest Business tickets for the longest flights?](#toc1_3_)    \n",
    "  - 1.4. [What are the cheapest Economy tickets for the longest flights?](#toc1_4_)    \n",
    "  - 1.5. [What are distances travelled by the longest flights?](#toc1_5_)    \n",
    "  - 1.6. [Display routes of longest flights](#toc1_6_)    \n",
    "\n",
    "<!-- vscode-jupyter-toc-config\n",
    "\tnumbering=true\n",
    "\tanchor=true\n",
    "\tflat=false\n",
    "\tminLevel=2\n",
    "\tmaxLevel=6\n",
    "\t/vscode-jupyter-toc-config -->\n",
    "<!-- THIS CELL WILL BE REPLACED ON TOC UPDATE. DO NOT WRITE YOUR TEXT IN THIS CELL -->"
   ]
  },
  {
   "cell_type": "markdown",
   "metadata": {},
   "source": [
    "## 1. <a id='toc1_'></a>[EXPLORATORY **SQL** DATA ANALYSIS OF SQLITE AIRLINE FLIGHTS INFORMATION](#toc0_)"
   ]
  },
  {
   "cell_type": "code",
   "execution_count": 1,
   "metadata": {},
   "outputs": [],
   "source": [
    "import os \n",
    "import sqlalchemy as sql\n",
    "from sqlalchemy_schemadisplay import create_schema_graph\n",
    "import pandas as pd\n",
    "import numpy as np\n",
    "import plotly.graph_objects as go\n",
    "import haversine as hs #amazing library for computing geolocation distances, does the same as sklearn.metrics\n",
    "# this will prevet column breaks when printing dataframes\n",
    "pd.set_option('display.width', 1000)"
   ]
  },
  {
   "cell_type": "code",
   "execution_count": 2,
   "metadata": {},
   "outputs": [],
   "source": [
    "base_dir = os.path.abspath(\"\")\n",
    "filename = \"travel.sqlite\"\n",
    "engine = sql.create_engine(\"sqlite:///\"+os.path.join(base_dir,\"dataset\",filename))"
   ]
  },
  {
   "cell_type": "code",
   "execution_count": 3,
   "metadata": {},
   "outputs": [],
   "source": [
    "# Connect to engine\n",
    "connection = engine.connect()"
   ]
  },
  {
   "cell_type": "code",
   "execution_count": 4,
   "metadata": {},
   "outputs": [
    {
     "name": "stdout",
     "output_type": "stream",
     "text": [
      "TABLES:\n",
      "aircrafts_data\n",
      "airports_data\n",
      "boarding_passes\n",
      "bookings\n",
      "flights\n",
      "seats\n",
      "ticket_flights\n",
      "tickets\n"
     ]
    }
   ],
   "source": [
    "# Create inspector and list tables\n",
    "inspector = sql.inspect(engine)\n",
    "table_names = inspector.get_table_names()\n",
    "print(\"TABLES:\")\n",
    "print(\"\\n\".join(table_names))"
   ]
  },
  {
   "cell_type": "code",
   "execution_count": null,
   "metadata": {},
   "outputs": [],
   "source": [
    "# Get metadata to generate schema\n",
    "metadata = sql.MetaData()\n",
    "metadata.reflect(engine)"
   ]
  },
  {
   "cell_type": "markdown",
   "metadata": {},
   "source": [
    "### 1.1. <a id='toc1_1_'></a>[DATABASE SCHEMA](#toc0_)"
   ]
  },
  {
   "cell_type": "code",
   "execution_count": null,
   "metadata": {},
   "outputs": [],
   "source": [
    "graph = create_schema_graph(\n",
    "    engine=engine,\n",
    "    metadata=metadata,\n",
    "    show_datatypes=True,\n",
    "    show_indexes=True, # ditto for indexes\n",
    "    rankdir='TB', # From top to bottom\n",
    "    concentrate=False, # Don't try to join the relation lines together\n",
    ")\n",
    "graph.set_size('\"20,4!\"')\n",
    "graph.write_png(filename.replace(\".sqlite\",\"\")+\"_schema.png\")"
   ]
  },
  {
   "cell_type": "markdown",
   "metadata": {},
   "source": [
    "![travel_schema.png](attachment:travel_schema.png)"
   ]
  },
  {
   "cell_type": "markdown",
   "metadata": {},
   "source": [
    "### 1.2. <a id='toc1_2_'></a>[What are the fare conditions, the number of bookings and their price?](#toc0_)"
   ]
  },
  {
   "cell_type": "code",
   "execution_count": null,
   "metadata": {},
   "outputs": [
    {
     "name": "stdout",
     "output_type": "stream",
     "text": [
      "       fare  no_of_tickets  percentage  average_price(RUB)  lowest_price(RUB)  highest_price(RUB)  total_purchased(RUB)\n",
      "0  Business         107642   10.293519             51143.0               9100              203300            5505179600\n",
      "1   Comfort          17291    1.653492             32741.0              19900               47600             566116900\n",
      "2   Economy         920793   88.052989             15960.0               3000               74500           14695684400\n"
     ]
    }
   ],
   "source": [
    "rs = connection.execute(\n",
    "    sql.text(\n",
    "        '''\n",
    "        WITH table_a AS (\n",
    "            SELECT DISTINCT flights.flight_no AS 'flight', flights.departure_airport,\n",
    "            flights.arrival_airport, CAST(ticket_flights.amount AS INT) AS 'price', \n",
    "            ticket_flights.fare_conditions AS 'fare',\n",
    "            ticket_flights.ticket_no AS 'ticket'\n",
    "            FROM flights \n",
    "            JOIN ticket_flights \n",
    "            ON flights.flight_id = ticket_flights.flight_id\n",
    "        )\n",
    "        SELECT fare,\n",
    "        COUNT(ticket) AS 'no_of_tickets',\n",
    "        COUNT(ticket) * 100.0 / SUM(COUNT(ticket)) OVER () AS 'percentage',\n",
    "        ROUND(AVG(\"price\")) as 'average_price(RUB)',\n",
    "        MIN(\"price\") as 'lowest_price(RUB)',\n",
    "        MAX(\"price\") as 'highest_price(RUB)',\n",
    "        SUM(\"price\") as 'total_purchased(RUB)'\n",
    "        FROM table_a\n",
    "        GROUP BY fare\n",
    "        '''\n",
    "        )\n",
    "    )\n",
    "price_biz_list=pd.DataFrame(rs.fetchall())\n",
    "price_biz_list.columns=rs.keys()\n",
    "print(price_biz_list.head())"
   ]
  },
  {
   "cell_type": "markdown",
   "metadata": {},
   "source": [
    "### 1.3. <a id='toc1_3_'></a>[What are the priciest Business tickets for the longest flights?](#toc0_)"
   ]
  },
  {
   "cell_type": "code",
   "execution_count": null,
   "metadata": {},
   "outputs": [
    {
     "name": "stdout",
     "output_type": "stream",
     "text": [
      "    flight_id  flight departure_airport arrival_airport  duration      fare  price(RUB)\n",
      "0        1274  PG0168               DME             UUS  09:01:00  Business      199800\n",
      "1        6011  PG0703               SVO             UUS  08:59:00  Business      199300\n",
      "2       18080  PG0704               UUS             SVO  08:57:00  Business      199300\n",
      "3       18005  PG0169               UUS             DME  08:57:00  Business      199800\n",
      "4        1313  PG0144               DME             PKC  08:57:00  Business      203300\n",
      "5       18243  PG0145               PKC             DME  08:56:00  Business      203300\n",
      "6       19918  PG0108               GDX             MRV  08:56:00  Business      201300\n",
      "7       20247  PG0109               MRV             GDX  08:49:00  Business      201300\n",
      "8        4199  PG0200               VKO             VVO  08:37:00  Business      193100\n",
      "9       26598  PG0201               VVO             VKO  08:34:00  Business      193100\n",
      "10       6492  PG0255               SVO             DYR  08:19:00  Business      185300\n",
      "11      21834  PG0256               DYR             SVO  08:18:00  Business      185300\n",
      "12       9332  PG0356               LED             KHV  08:14:00  Business      186200\n",
      "13      26249  PG0357               KHV             LED  08:12:00  Business      186200\n",
      "14      26201  PG0209               KHV             DME  08:10:00  Business      184500\n"
     ]
    }
   ],
   "source": [
    "rs = connection.execute(\n",
    "    sql.text(\n",
    "        '''\n",
    "        WITH table_a AS (\n",
    "            SELECT flights.flight_no AS 'flight', \n",
    "            flights.flight_id AS 'flight_id',\n",
    "            flights.departure_airport, flights.arrival_airport, \n",
    "            MAX(CAST(ticket_flights.amount AS INT)) AS 'price(RUB)', \n",
    "            ticket_flights.fare_conditions AS 'fare',\n",
    "            STRFTIME(\"%F %T\", SUBSTR(flights.actual_departure,1,LENGTH(flights.actual_departure)-3)) AS 'actual_departure',\n",
    "            STRFTIME('%F %T', SUBSTR(flights.actual_arrival,1,LENGTH(flights.actual_arrival)-3)) AS 'actual_arrival'\n",
    "            FROM flights JOIN ticket_flights ON flights.flight_id = ticket_flights.flight_id\n",
    "            WHERE fare='Business' AND 'actual_arrival' IS NOT NULL\n",
    "            GROUP BY flights.flight_id\n",
    "        ),\n",
    "        table_b AS (\n",
    "            SELECT flights.flight_no AS 'flight', \n",
    "            flights.flight_id AS 'flight_id',\n",
    "            TIME(SUBSTR(TIMEDIFF(table_a.actual_arrival,table_a.actual_departure),13)) AS 'duration'\n",
    "            FROM flights JOIN table_a ON flights.flight_id = table_a.flight_id\n",
    "        )\n",
    "        SELECT table_a.flight_id AS flight_id, table_a.flight AS flight, \n",
    "            departure_airport, arrival_airport, \n",
    "            MAX(duration) as \"duration\", \n",
    "            fare, \"price(RUB)\"\n",
    "        FROM table_a JOIN table_b ON table_a.flight_id = table_b.flight_id\n",
    "        WHERE duration IS NOT NULL\n",
    "        GROUP BY table_a.flight\n",
    "        ORDER BY duration DESC LIMIT 15\n",
    "        '''\n",
    "        )\n",
    "    )\n",
    "price_biz_list=pd.DataFrame(rs.fetchall())\n",
    "price_biz_list.columns=rs.keys()\n",
    "print(price_biz_list)"
   ]
  },
  {
   "cell_type": "markdown",
   "metadata": {},
   "source": [
    "### 1.4. <a id='toc1_4_'></a>[What are the cheapest Economy tickets for the longest flights?](#toc0_)"
   ]
  },
  {
   "cell_type": "code",
   "execution_count": null,
   "metadata": {},
   "outputs": [
    {
     "name": "stdout",
     "output_type": "stream",
     "text": [
      "    flight_id  flight departure_airport arrival_airport  duration     fare  price(RUB)\n",
      "0        1274  PG0168               DME             UUS  09:01:00  Economy       66600\n",
      "1        6011  PG0703               SVO             UUS  08:59:00  Economy       66400\n",
      "2       18080  PG0704               UUS             SVO  08:57:00  Economy       66400\n",
      "3       18005  PG0169               UUS             DME  08:57:00  Economy       66600\n",
      "4        1313  PG0144               DME             PKC  08:57:00  Economy       67800\n",
      "5       18243  PG0145               PKC             DME  08:56:00  Economy       67800\n",
      "6       19918  PG0108               GDX             MRV  08:56:00  Economy       67100\n",
      "7       20247  PG0109               MRV             GDX  08:49:00  Economy       67100\n",
      "8        4199  PG0200               VKO             VVO  08:37:00  Economy       64400\n",
      "9       26598  PG0201               VVO             VKO  08:34:00  Economy       64400\n",
      "10       6492  PG0255               SVO             DYR  08:19:00  Economy       61800\n",
      "11      21834  PG0256               DYR             SVO  08:18:00  Economy       61800\n",
      "12       9332  PG0356               LED             KHV  08:14:00  Economy       62100\n",
      "13      26249  PG0357               KHV             LED  08:12:00  Economy       62100\n",
      "14      26201  PG0209               KHV             DME  08:10:00  Economy       61500\n"
     ]
    }
   ],
   "source": [
    "rs = connection.execute(\n",
    "    sql.text(\n",
    "        '''\n",
    "        WITH table_a AS (\n",
    "            SELECT flights.flight_no AS 'flight', \n",
    "            flights.flight_id AS 'flight_id',\n",
    "            flights.departure_airport, flights.arrival_airport, \n",
    "            MIN(CAST(ticket_flights.amount AS INT)) AS 'price(RUB)', \n",
    "            ticket_flights.fare_conditions AS 'fare',\n",
    "            STRFTIME('%F %T', SUBSTR(flights.actual_departure,1,LENGTH(flights.actual_departure)-3)) AS 'actual_departure',\n",
    "            STRFTIME('%F %T', SUBSTR(flights.actual_arrival,1,LENGTH(flights.actual_arrival)-3)) AS 'actual_arrival'  \n",
    "            FROM flights JOIN ticket_flights ON flights.flight_id = ticket_flights.flight_id\n",
    "            WHERE fare='Economy' AND 'actual_arrival' IS NOT NULL\n",
    "            GROUP BY flights.flight_id\n",
    "        ),\n",
    "        table_b AS (\n",
    "            SELECT flights.flight_no AS 'flight', \n",
    "            flights.flight_id AS 'flight_id',\n",
    "            TIME(SUBSTR(TIMEDIFF(table_a.actual_arrival,table_a.actual_departure),13)) AS 'duration'\n",
    "            FROM flights JOIN table_a ON flights.flight_id = table_a.flight_id\n",
    "        )\n",
    "        SELECT table_a.flight_id AS flight_id, table_a.flight AS flight, \n",
    "            departure_airport, arrival_airport, \n",
    "            MAX(duration) as \"duration\", \n",
    "            fare, \"price(RUB)\"\n",
    "        FROM table_a JOIN table_b ON table_a.flight_id = table_b.flight_id\n",
    "        WHERE duration IS NOT NULL\n",
    "        GROUP BY table_a.flight\n",
    "        ORDER BY duration DESC LIMIT 15\n",
    "        '''\n",
    "        )\n",
    "    )\n",
    "price_econ_list=pd.DataFrame(rs.fetchall())\n",
    "price_econ_list.columns=rs.keys()\n",
    "print(price_econ_list)"
   ]
  },
  {
   "cell_type": "markdown",
   "metadata": {},
   "source": [
    "### 1.5. <a id='toc1_5_'></a>[What are distances travelled by the longest flights?](#toc0_)"
   ]
  },
  {
   "cell_type": "code",
   "execution_count": null,
   "metadata": {},
   "outputs": [
    {
     "name": "stdout",
     "output_type": "stream",
     "text": [
      "    flight_id  flight departure arrival  distance(km)  duration scheduled_duration\n",
      "0        1274  PG0168       DME     UUS      6658.534  09:01:00           08:50:00\n",
      "1        6011  PG0703       SVO     UUS      6641.581  08:59:00           08:45:00\n",
      "2       18080  PG0704       UUS     SVO      6641.581  08:57:00           08:45:00\n",
      "3       18005  PG0169       UUS     DME      6658.534  08:57:00           08:50:00\n",
      "4        1313  PG0144       DME     PKC      6774.739  08:57:00           08:50:00\n",
      "5       18243  PG0145       PKC     DME      6774.739  08:56:00           08:50:00\n",
      "6       19918  PG0108       GDX     MRV      6711.116  08:56:00           08:45:00\n",
      "7       20248  PG0109       MRV     GDX      6711.116  08:51:00           08:45:00\n",
      "8        4199  PG0200       VKO     VVO      6434.555  08:37:00           08:25:00\n",
      "9       26598  PG0201       VVO     VKO      6434.555  08:34:00           08:25:00\n",
      "10       1700  PG0315       DME     DYR      6226.030  08:26:00           08:15:00\n",
      "11      21823  PG0451       DYR     VKO      6220.252  08:24:00           08:15:00\n",
      "12       3869  PG0450       VKO     DYR      6220.252  08:22:00           08:15:00\n",
      "13      21817  PG0316       DYR     DME      6226.030  08:19:00           08:15:00\n",
      "14       6492  PG0255       SVO     DYR      6177.086  08:19:00           08:10:00\n",
      "15      21834  PG0256       DYR     SVO      6177.086  08:18:00           08:10:00\n",
      "16       9332  PG0356       LED     KHV      6206.984  08:14:00           08:05:00\n",
      "17      26249  PG0357       KHV     LED      6206.984  08:12:00           08:05:00\n",
      "18      26201  PG0209       KHV     DME      6149.931  08:10:00           08:00:00\n",
      "19       2335  PG0208       DME     KHV      6149.931  08:08:00           08:00:00\n"
     ]
    }
   ],
   "source": [
    "rs = connection.execute(\n",
    "    sql.text(\n",
    "        '''\n",
    "        WITH \n",
    "        table_departure AS (\n",
    "            SELECT flights.flight_id,\n",
    "            flights.flight_no AS 'flight', \n",
    "            flights.departure_airport AS 'departure',\n",
    "            CAST(SUBSTR(coordinates, 2, INSTR(coordinates, ',')-2) AS FLOAT) AS 'departure_coordinates_lon',\n",
    "            CAST(SUBSTR(coordinates, INSTR(coordinates, ',')+1) AS FLOAT) AS 'departure_coordinates_lat',\n",
    "            STRFTIME('%F %T', SUBSTR(flights.actual_departure,1,LENGTH(flights.actual_departure)-3)) AS 'actual_departure',\n",
    "            STRFTIME('%F %T', SUBSTR(flights.scheduled_departure,1,LENGTH(flights.scheduled_departure)-3)) AS 'scheduled_departure'\n",
    "            FROM flights JOIN airports_data \n",
    "            ON flights.departure_airport = airports_data.airport_code\n",
    "        ),\n",
    "        table_arrival AS (\n",
    "            SELECT flights.flight_id,\n",
    "            flights.arrival_airport AS 'arrival',\n",
    "            CAST(SUBSTR(coordinates, 2, INSTR(coordinates, ',')-2) AS FLOAT) AS 'arrival_coordinates_lon',\n",
    "            CAST(SUBSTR(coordinates, INSTR(coordinates, ',')+1) AS FLOAT) AS 'arrival_coordinates_lat',\n",
    "            STRFTIME('%F %T', SUBSTR(flights.actual_arrival,1,LENGTH(flights.actual_arrival)-3)) AS 'actual_arrival',\n",
    "            STRFTIME('%F %T', SUBSTR(flights.scheduled_arrival,1,LENGTH(flights.scheduled_arrival)-3)) AS 'scheduled_arrival'\n",
    "            FROM flights JOIN airports_data \n",
    "            ON flights.arrival_airport = airports_data.airport_code\n",
    "        ),\n",
    "        table_b AS (\n",
    "            SELECT flights.flight_no AS 'flight', \n",
    "            flights.flight_id AS 'flight_id',\n",
    "            TIME(SUBSTR(TIMEDIFF(table_arrival.actual_arrival,table_departure.actual_departure),13)) AS 'duration',\n",
    "            TIME(SUBSTR(TIMEDIFF(table_arrival.scheduled_arrival,table_departure.scheduled_departure),13)) AS 'scheduled_duration'\n",
    "            FROM flights \n",
    "            JOIN table_departure ON flights.flight_id = table_departure.flight_id \n",
    "            JOIN table_arrival ON table_arrival.flight_id = table_departure.flight_id \n",
    "        )\n",
    "        SELECT table_departure.flight_id, table_departure.flight, departure, arrival, \n",
    "        MAX(duration) AS 'duration', table_b.scheduled_duration,\n",
    "        scheduled_arrival, actual_arrival, \n",
    "        departure_coordinates_lat, departure_coordinates_lon,\n",
    "        arrival_coordinates_lat, arrival_coordinates_lon\n",
    "        FROM table_departure\n",
    "        JOIN table_arrival\n",
    "        ON table_departure.flight_id = table_arrival.flight_id\n",
    "        JOIN table_b\n",
    "        ON table_arrival.flight_id = table_b.flight_id\n",
    "        WHERE duration IS NOT NULL\n",
    "        GROUP BY table_b.flight\n",
    "        ORDER BY duration DESC LIMIT 20\n",
    "        '''\n",
    "        )\n",
    "    )\n",
    "distance_list=pd.DataFrame(rs.fetchall())\n",
    "distance_list.columns=rs.keys()\n",
    "# Use the coordinates extracted from the database \n",
    "# to compute the distances travelled by the flights \n",
    "# using the Haversine formula \n",
    "distances = hs.haversine_vector(\n",
    "                    np.array([distance_list.departure_coordinates_lat,\n",
    "                              distance_list.departure_coordinates_lon]).T,\n",
    "                    np.array([distance_list.arrival_coordinates_lat, \n",
    "                              distance_list.arrival_coordinates_lon]).T,\n",
    "                    unit=hs.Unit.KILOMETERS\n",
    "                    )\n",
    "distance_list.insert(loc=4,column=\"distance(km)\",value=np.round(distances,3))\n",
    "print(distance_list[distance_list.columns[:7]])"
   ]
  },
  {
   "cell_type": "markdown",
   "metadata": {},
   "source": [
    "### 1.6. <a id='toc1_6_'></a>[Display routes of longest flights](#toc0_)"
   ]
  },
  {
   "cell_type": "code",
   "execution_count": null,
   "metadata": {},
   "outputs": [
    {
     "data": {
      "application/vnd.plotly.v1+json": {
       "config": {
        "plotlyServerURL": "https://plot.ly"
       },
       "data": [
        {
         "lat": [
          55.40879821777344,
          55.972599,
          46.88869857788086,
          46.88869857788086,
          55.40879821777344,
          53.16790008544922,
          59.9109992980957,
          44.225101470947266,
          55.5914993286,
          43.39899826049805,
          55.40879821777344,
          64.73490142822266,
          55.5914993286,
          64.73490142822266,
          55.972599,
          64.73490142822266,
          59.80030059814453,
          48.52799987793,
          48.52799987793,
          55.40879821777344
         ],
         "lon": [
          37.90629959106445,
          37.4146,
          142.71800231933594,
          142.71800231933594,
          37.90629959106445,
          158.45399475097656,
          150.72000122070312,
          43.08190155029297,
          37.2615013123,
          132.1479949951172,
          37.90629959106445,
          177.74099731445312,
          37.2615013123,
          177.74099731445312,
          37.4146,
          177.74099731445312,
          30.262500762939453,
          135.18800354004,
          135.18800354004,
          37.90629959106445
         ],
         "marker": {
          "line": {
           "color": "rgba(68, 68, 68, 0)",
           "width": 3
          },
          "size": 5,
          "symbol": "square"
         },
         "mode": "markers",
         "name": "departures",
         "text": [
          "DME",
          "SVO",
          "UUS",
          "UUS",
          "DME",
          "PKC",
          "GDX",
          "MRV",
          "VKO",
          "VVO",
          "DME",
          "DYR",
          "VKO",
          "DYR",
          "SVO",
          "DYR",
          "LED",
          "KHV",
          "KHV",
          "DME"
         ],
         "type": "scattergeo"
        },
        {
         "lat": [
          46.88869857788086,
          46.88869857788086,
          55.972599,
          55.40879821777344,
          53.16790008544922,
          55.40879821777344,
          44.225101470947266,
          59.9109992980957,
          43.39899826049805,
          55.5914993286,
          64.73490142822266,
          55.5914993286,
          64.73490142822266,
          55.40879821777344,
          64.73490142822266,
          55.972599,
          48.52799987793,
          59.80030059814453,
          55.40879821777344,
          48.52799987793
         ],
         "lon": [
          142.71800231933594,
          142.71800231933594,
          37.4146,
          37.90629959106445,
          158.45399475097656,
          37.90629959106445,
          43.08190155029297,
          150.72000122070312,
          132.1479949951172,
          37.2615013123,
          177.74099731445312,
          37.2615013123,
          177.74099731445312,
          37.90629959106445,
          177.74099731445312,
          37.4146,
          135.18800354004,
          30.262500762939453,
          37.90629959106445,
          135.18800354004
         ],
         "marker": {
          "line": {
           "color": "rgba(68, 68, 68, 0)",
           "width": 3
          },
          "size": 5
         },
         "mode": "markers",
         "name": "arrivals",
         "text": [
          "UUS",
          "UUS",
          "SVO",
          "DME",
          "PKC",
          "DME",
          "MRV",
          "GDX",
          "VVO",
          "VKO",
          "DYR",
          "VKO",
          "DYR",
          "DME",
          "DYR",
          "SVO",
          "KHV",
          "LED",
          "DME",
          "KHV"
         ],
         "type": "scattergeo"
        },
        {
         "lat": [
          55.40879821777344,
          46.88869857788086,
          null,
          55.972599,
          46.88869857788086,
          null,
          46.88869857788086,
          55.972599,
          null,
          46.88869857788086,
          55.40879821777344,
          null,
          55.40879821777344,
          53.16790008544922,
          null,
          53.16790008544922,
          55.40879821777344,
          null,
          59.9109992980957,
          44.225101470947266,
          null,
          44.225101470947266,
          59.9109992980957,
          null,
          55.5914993286,
          43.39899826049805,
          null,
          43.39899826049805,
          55.5914993286,
          null,
          55.40879821777344,
          64.73490142822266,
          null,
          64.73490142822266,
          55.5914993286,
          null,
          55.5914993286,
          64.73490142822266,
          null,
          64.73490142822266,
          55.40879821777344,
          null,
          55.972599,
          64.73490142822266,
          null,
          64.73490142822266,
          55.972599,
          null,
          59.80030059814453,
          48.52799987793,
          null,
          48.52799987793,
          59.80030059814453,
          null,
          48.52799987793,
          55.40879821777344,
          null,
          55.40879821777344,
          48.52799987793,
          null
         ],
         "line": {
          "color": "red",
          "width": 2
         },
         "lon": [
          37.90629959106445,
          142.71800231933594,
          null,
          37.4146,
          142.71800231933594,
          null,
          142.71800231933594,
          37.4146,
          null,
          142.71800231933594,
          37.90629959106445,
          null,
          37.90629959106445,
          158.45399475097656,
          null,
          158.45399475097656,
          37.90629959106445,
          null,
          150.72000122070312,
          43.08190155029297,
          null,
          43.08190155029297,
          150.72000122070312,
          null,
          37.2615013123,
          132.1479949951172,
          null,
          132.1479949951172,
          37.2615013123,
          null,
          37.90629959106445,
          177.74099731445312,
          null,
          177.74099731445312,
          37.2615013123,
          null,
          37.2615013123,
          177.74099731445312,
          null,
          177.74099731445312,
          37.90629959106445,
          null,
          37.4146,
          177.74099731445312,
          null,
          177.74099731445312,
          37.4146,
          null,
          30.262500762939453,
          135.18800354004,
          null,
          135.18800354004,
          30.262500762939453,
          null,
          135.18800354004,
          37.90629959106445,
          null,
          37.90629959106445,
          135.18800354004,
          null
         ],
         "mode": "lines",
         "opacity": 0.5,
         "type": "scattergeo"
        }
       ],
       "layout": {
        "geo": {
         "lataxis": {
          "dtick": 10,
          "range": [
           40,
           90
          ],
          "showgrid": true
         },
         "lonaxis": {
          "dtick": 10,
          "range": [
           20,
           180
          ],
          "showgrid": true
         }
        },
        "showlegend": true,
        "template": {
         "data": {
          "bar": [
           {
            "error_x": {
             "color": "#2a3f5f"
            },
            "error_y": {
             "color": "#2a3f5f"
            },
            "marker": {
             "line": {
              "color": "#E5ECF6",
              "width": 0.5
             },
             "pattern": {
              "fillmode": "overlay",
              "size": 10,
              "solidity": 0.2
             }
            },
            "type": "bar"
           }
          ],
          "barpolar": [
           {
            "marker": {
             "line": {
              "color": "#E5ECF6",
              "width": 0.5
             },
             "pattern": {
              "fillmode": "overlay",
              "size": 10,
              "solidity": 0.2
             }
            },
            "type": "barpolar"
           }
          ],
          "carpet": [
           {
            "aaxis": {
             "endlinecolor": "#2a3f5f",
             "gridcolor": "white",
             "linecolor": "white",
             "minorgridcolor": "white",
             "startlinecolor": "#2a3f5f"
            },
            "baxis": {
             "endlinecolor": "#2a3f5f",
             "gridcolor": "white",
             "linecolor": "white",
             "minorgridcolor": "white",
             "startlinecolor": "#2a3f5f"
            },
            "type": "carpet"
           }
          ],
          "choropleth": [
           {
            "colorbar": {
             "outlinewidth": 0,
             "ticks": ""
            },
            "type": "choropleth"
           }
          ],
          "contour": [
           {
            "colorbar": {
             "outlinewidth": 0,
             "ticks": ""
            },
            "colorscale": [
             [
              0,
              "#0d0887"
             ],
             [
              0.1111111111111111,
              "#46039f"
             ],
             [
              0.2222222222222222,
              "#7201a8"
             ],
             [
              0.3333333333333333,
              "#9c179e"
             ],
             [
              0.4444444444444444,
              "#bd3786"
             ],
             [
              0.5555555555555556,
              "#d8576b"
             ],
             [
              0.6666666666666666,
              "#ed7953"
             ],
             [
              0.7777777777777778,
              "#fb9f3a"
             ],
             [
              0.8888888888888888,
              "#fdca26"
             ],
             [
              1,
              "#f0f921"
             ]
            ],
            "type": "contour"
           }
          ],
          "contourcarpet": [
           {
            "colorbar": {
             "outlinewidth": 0,
             "ticks": ""
            },
            "type": "contourcarpet"
           }
          ],
          "heatmap": [
           {
            "colorbar": {
             "outlinewidth": 0,
             "ticks": ""
            },
            "colorscale": [
             [
              0,
              "#0d0887"
             ],
             [
              0.1111111111111111,
              "#46039f"
             ],
             [
              0.2222222222222222,
              "#7201a8"
             ],
             [
              0.3333333333333333,
              "#9c179e"
             ],
             [
              0.4444444444444444,
              "#bd3786"
             ],
             [
              0.5555555555555556,
              "#d8576b"
             ],
             [
              0.6666666666666666,
              "#ed7953"
             ],
             [
              0.7777777777777778,
              "#fb9f3a"
             ],
             [
              0.8888888888888888,
              "#fdca26"
             ],
             [
              1,
              "#f0f921"
             ]
            ],
            "type": "heatmap"
           }
          ],
          "heatmapgl": [
           {
            "colorbar": {
             "outlinewidth": 0,
             "ticks": ""
            },
            "colorscale": [
             [
              0,
              "#0d0887"
             ],
             [
              0.1111111111111111,
              "#46039f"
             ],
             [
              0.2222222222222222,
              "#7201a8"
             ],
             [
              0.3333333333333333,
              "#9c179e"
             ],
             [
              0.4444444444444444,
              "#bd3786"
             ],
             [
              0.5555555555555556,
              "#d8576b"
             ],
             [
              0.6666666666666666,
              "#ed7953"
             ],
             [
              0.7777777777777778,
              "#fb9f3a"
             ],
             [
              0.8888888888888888,
              "#fdca26"
             ],
             [
              1,
              "#f0f921"
             ]
            ],
            "type": "heatmapgl"
           }
          ],
          "histogram": [
           {
            "marker": {
             "pattern": {
              "fillmode": "overlay",
              "size": 10,
              "solidity": 0.2
             }
            },
            "type": "histogram"
           }
          ],
          "histogram2d": [
           {
            "colorbar": {
             "outlinewidth": 0,
             "ticks": ""
            },
            "colorscale": [
             [
              0,
              "#0d0887"
             ],
             [
              0.1111111111111111,
              "#46039f"
             ],
             [
              0.2222222222222222,
              "#7201a8"
             ],
             [
              0.3333333333333333,
              "#9c179e"
             ],
             [
              0.4444444444444444,
              "#bd3786"
             ],
             [
              0.5555555555555556,
              "#d8576b"
             ],
             [
              0.6666666666666666,
              "#ed7953"
             ],
             [
              0.7777777777777778,
              "#fb9f3a"
             ],
             [
              0.8888888888888888,
              "#fdca26"
             ],
             [
              1,
              "#f0f921"
             ]
            ],
            "type": "histogram2d"
           }
          ],
          "histogram2dcontour": [
           {
            "colorbar": {
             "outlinewidth": 0,
             "ticks": ""
            },
            "colorscale": [
             [
              0,
              "#0d0887"
             ],
             [
              0.1111111111111111,
              "#46039f"
             ],
             [
              0.2222222222222222,
              "#7201a8"
             ],
             [
              0.3333333333333333,
              "#9c179e"
             ],
             [
              0.4444444444444444,
              "#bd3786"
             ],
             [
              0.5555555555555556,
              "#d8576b"
             ],
             [
              0.6666666666666666,
              "#ed7953"
             ],
             [
              0.7777777777777778,
              "#fb9f3a"
             ],
             [
              0.8888888888888888,
              "#fdca26"
             ],
             [
              1,
              "#f0f921"
             ]
            ],
            "type": "histogram2dcontour"
           }
          ],
          "mesh3d": [
           {
            "colorbar": {
             "outlinewidth": 0,
             "ticks": ""
            },
            "type": "mesh3d"
           }
          ],
          "parcoords": [
           {
            "line": {
             "colorbar": {
              "outlinewidth": 0,
              "ticks": ""
             }
            },
            "type": "parcoords"
           }
          ],
          "pie": [
           {
            "automargin": true,
            "type": "pie"
           }
          ],
          "scatter": [
           {
            "fillpattern": {
             "fillmode": "overlay",
             "size": 10,
             "solidity": 0.2
            },
            "type": "scatter"
           }
          ],
          "scatter3d": [
           {
            "line": {
             "colorbar": {
              "outlinewidth": 0,
              "ticks": ""
             }
            },
            "marker": {
             "colorbar": {
              "outlinewidth": 0,
              "ticks": ""
             }
            },
            "type": "scatter3d"
           }
          ],
          "scattercarpet": [
           {
            "marker": {
             "colorbar": {
              "outlinewidth": 0,
              "ticks": ""
             }
            },
            "type": "scattercarpet"
           }
          ],
          "scattergeo": [
           {
            "marker": {
             "colorbar": {
              "outlinewidth": 0,
              "ticks": ""
             }
            },
            "type": "scattergeo"
           }
          ],
          "scattergl": [
           {
            "marker": {
             "colorbar": {
              "outlinewidth": 0,
              "ticks": ""
             }
            },
            "type": "scattergl"
           }
          ],
          "scattermapbox": [
           {
            "marker": {
             "colorbar": {
              "outlinewidth": 0,
              "ticks": ""
             }
            },
            "type": "scattermapbox"
           }
          ],
          "scatterpolar": [
           {
            "marker": {
             "colorbar": {
              "outlinewidth": 0,
              "ticks": ""
             }
            },
            "type": "scatterpolar"
           }
          ],
          "scatterpolargl": [
           {
            "marker": {
             "colorbar": {
              "outlinewidth": 0,
              "ticks": ""
             }
            },
            "type": "scatterpolargl"
           }
          ],
          "scatterternary": [
           {
            "marker": {
             "colorbar": {
              "outlinewidth": 0,
              "ticks": ""
             }
            },
            "type": "scatterternary"
           }
          ],
          "surface": [
           {
            "colorbar": {
             "outlinewidth": 0,
             "ticks": ""
            },
            "colorscale": [
             [
              0,
              "#0d0887"
             ],
             [
              0.1111111111111111,
              "#46039f"
             ],
             [
              0.2222222222222222,
              "#7201a8"
             ],
             [
              0.3333333333333333,
              "#9c179e"
             ],
             [
              0.4444444444444444,
              "#bd3786"
             ],
             [
              0.5555555555555556,
              "#d8576b"
             ],
             [
              0.6666666666666666,
              "#ed7953"
             ],
             [
              0.7777777777777778,
              "#fb9f3a"
             ],
             [
              0.8888888888888888,
              "#fdca26"
             ],
             [
              1,
              "#f0f921"
             ]
            ],
            "type": "surface"
           }
          ],
          "table": [
           {
            "cells": {
             "fill": {
              "color": "#EBF0F8"
             },
             "line": {
              "color": "white"
             }
            },
            "header": {
             "fill": {
              "color": "#C8D4E3"
             },
             "line": {
              "color": "white"
             }
            },
            "type": "table"
           }
          ]
         },
         "layout": {
          "annotationdefaults": {
           "arrowcolor": "#2a3f5f",
           "arrowhead": 0,
           "arrowwidth": 1
          },
          "autotypenumbers": "strict",
          "coloraxis": {
           "colorbar": {
            "outlinewidth": 0,
            "ticks": ""
           }
          },
          "colorscale": {
           "diverging": [
            [
             0,
             "#8e0152"
            ],
            [
             0.1,
             "#c51b7d"
            ],
            [
             0.2,
             "#de77ae"
            ],
            [
             0.3,
             "#f1b6da"
            ],
            [
             0.4,
             "#fde0ef"
            ],
            [
             0.5,
             "#f7f7f7"
            ],
            [
             0.6,
             "#e6f5d0"
            ],
            [
             0.7,
             "#b8e186"
            ],
            [
             0.8,
             "#7fbc41"
            ],
            [
             0.9,
             "#4d9221"
            ],
            [
             1,
             "#276419"
            ]
           ],
           "sequential": [
            [
             0,
             "#0d0887"
            ],
            [
             0.1111111111111111,
             "#46039f"
            ],
            [
             0.2222222222222222,
             "#7201a8"
            ],
            [
             0.3333333333333333,
             "#9c179e"
            ],
            [
             0.4444444444444444,
             "#bd3786"
            ],
            [
             0.5555555555555556,
             "#d8576b"
            ],
            [
             0.6666666666666666,
             "#ed7953"
            ],
            [
             0.7777777777777778,
             "#fb9f3a"
            ],
            [
             0.8888888888888888,
             "#fdca26"
            ],
            [
             1,
             "#f0f921"
            ]
           ],
           "sequentialminus": [
            [
             0,
             "#0d0887"
            ],
            [
             0.1111111111111111,
             "#46039f"
            ],
            [
             0.2222222222222222,
             "#7201a8"
            ],
            [
             0.3333333333333333,
             "#9c179e"
            ],
            [
             0.4444444444444444,
             "#bd3786"
            ],
            [
             0.5555555555555556,
             "#d8576b"
            ],
            [
             0.6666666666666666,
             "#ed7953"
            ],
            [
             0.7777777777777778,
             "#fb9f3a"
            ],
            [
             0.8888888888888888,
             "#fdca26"
            ],
            [
             1,
             "#f0f921"
            ]
           ]
          },
          "colorway": [
           "#636efa",
           "#EF553B",
           "#00cc96",
           "#ab63fa",
           "#FFA15A",
           "#19d3f3",
           "#FF6692",
           "#B6E880",
           "#FF97FF",
           "#FECB52"
          ],
          "font": {
           "color": "#2a3f5f"
          },
          "geo": {
           "bgcolor": "white",
           "lakecolor": "white",
           "landcolor": "#E5ECF6",
           "showlakes": true,
           "showland": true,
           "subunitcolor": "white"
          },
          "hoverlabel": {
           "align": "left"
          },
          "hovermode": "closest",
          "mapbox": {
           "style": "light"
          },
          "paper_bgcolor": "white",
          "plot_bgcolor": "#E5ECF6",
          "polar": {
           "angularaxis": {
            "gridcolor": "white",
            "linecolor": "white",
            "ticks": ""
           },
           "bgcolor": "#E5ECF6",
           "radialaxis": {
            "gridcolor": "white",
            "linecolor": "white",
            "ticks": ""
           }
          },
          "scene": {
           "xaxis": {
            "backgroundcolor": "#E5ECF6",
            "gridcolor": "white",
            "gridwidth": 2,
            "linecolor": "white",
            "showbackground": true,
            "ticks": "",
            "zerolinecolor": "white"
           },
           "yaxis": {
            "backgroundcolor": "#E5ECF6",
            "gridcolor": "white",
            "gridwidth": 2,
            "linecolor": "white",
            "showbackground": true,
            "ticks": "",
            "zerolinecolor": "white"
           },
           "zaxis": {
            "backgroundcolor": "#E5ECF6",
            "gridcolor": "white",
            "gridwidth": 2,
            "linecolor": "white",
            "showbackground": true,
            "ticks": "",
            "zerolinecolor": "white"
           }
          },
          "shapedefaults": {
           "line": {
            "color": "#2a3f5f"
           }
          },
          "ternary": {
           "aaxis": {
            "gridcolor": "white",
            "linecolor": "white",
            "ticks": ""
           },
           "baxis": {
            "gridcolor": "white",
            "linecolor": "white",
            "ticks": ""
           },
           "bgcolor": "#E5ECF6",
           "caxis": {
            "gridcolor": "white",
            "linecolor": "white",
            "ticks": ""
           }
          },
          "title": {
           "x": 0.05
          },
          "xaxis": {
           "automargin": true,
           "gridcolor": "white",
           "linecolor": "white",
           "ticks": "",
           "title": {
            "standoff": 15
           },
           "zerolinecolor": "white",
           "zerolinewidth": 2
          },
          "yaxis": {
           "automargin": true,
           "gridcolor": "white",
           "linecolor": "white",
           "ticks": "",
           "title": {
            "standoff": 15
           },
           "zerolinecolor": "white",
           "zerolinewidth": 2
          }
         }
        },
        "title": {
         "text": "20 longest flights<br>(Hover for airport names)"
        }
       }
      }
     },
     "metadata": {},
     "output_type": "display_data"
    }
   ],
   "source": [
    "fig = go.Figure()\n",
    "\n",
    "fig.add_trace(\n",
    "    go.Scattergeo(\n",
    "        lon = distance_list.departure_coordinates_lon,\n",
    "        lat = distance_list.departure_coordinates_lat,\n",
    "        text = distance_list.departure,\n",
    "        mode = 'markers',\n",
    "        name = \"departures\",\n",
    "        marker = dict(\n",
    "            size = 5,\n",
    "            # color = 'rgb(0, 0, 0)',\n",
    "            symbol=\"square\",\n",
    "            line = dict(\n",
    "                width = 3,\n",
    "                color = 'rgba(68, 68, 68, 0)'\n",
    "                )\n",
    "            )\n",
    "        )\n",
    ")\n",
    "\n",
    "fig.add_trace(\n",
    "    go.Scattergeo(\n",
    "        lon = distance_list.arrival_coordinates_lon,\n",
    "        lat = distance_list.arrival_coordinates_lat,\n",
    "        text = distance_list.arrival,\n",
    "        mode = 'markers',\n",
    "        name = \"arrivals\",\n",
    "        marker = dict(\n",
    "            size = 5,\n",
    "            # color = 'rgb(255, 0, 0)',\n",
    "            line = dict(\n",
    "                width = 3,\n",
    "                color = 'rgba(68, 68, 68, 0)'\n",
    "                )\n",
    "            )\n",
    "        )\n",
    ")\n",
    "\n",
    "lons = np.empty(3 * len(distance_list))\n",
    "lons[::3]  = distance_list.departure_coordinates_lon\n",
    "lons[1::3] = distance_list.arrival_coordinates_lon\n",
    "lons[2::3] = None\n",
    "lats = np.empty(3 * len(distance_list))\n",
    "lats[::3]  = distance_list.departure_coordinates_lat\n",
    "lats[1::3] = distance_list.arrival_coordinates_lat\n",
    "lats[2::3] = None\n",
    "locs = [3*[\"Flight \"+distance_list.flight[ii]+\": \"+distance_list.departure[ii]+\"-\"+distance_list.arrival[ii]] for ii in range(len(distance_list))]\n",
    "locs = np.ravel(locs)\n",
    "\n",
    "fig.add_trace(\n",
    "    go.Scattergeo(\n",
    "        lon = lons,\n",
    "        lat = lats,\n",
    "        mode = 'lines',\n",
    "        # name = \"flights\",\n",
    "        # hoverinfo = 'text',\n",
    "        # text = locs,\n",
    "        # textposition='top center',\n",
    "        line = dict(width = 2, color = 'red'),\n",
    "        opacity = 0.5\n",
    "    )\n",
    ")\n",
    "\n",
    "fig.update_layout(\n",
    "        title = '20 longest flights<br>(Hover for airport names)',\n",
    "        showlegend=True,\n",
    "        geo = dict(\n",
    "            lataxis = dict(\n",
    "                range = [40, 90],\n",
    "                showgrid = True,\n",
    "                dtick = 10\n",
    "            ),\n",
    "            lonaxis = dict(\n",
    "                range = [20, 180],\n",
    "                showgrid = True,\n",
    "                dtick = 10\n",
    "            ),\n",
    "        )\n",
    "    )\n",
    "fig.show()"
   ]
  },
  {
   "cell_type": "code",
   "execution_count": null,
   "metadata": {},
   "outputs": [],
   "source": []
  }
 ],
 "metadata": {
  "kernelspec": {
   "display_name": "venv",
   "language": "python",
   "name": "python3"
  },
  "language_info": {
   "codemirror_mode": {
    "name": "ipython",
    "version": 3
   },
   "file_extension": ".py",
   "mimetype": "text/x-python",
   "name": "python",
   "nbconvert_exporter": "python",
   "pygments_lexer": "ipython3",
   "version": "3.10.16"
  }
 },
 "nbformat": 4,
 "nbformat_minor": 2
}
